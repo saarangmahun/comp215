{
  "nbformat": 4,
  "nbformat_minor": 0,
  "metadata": {
    "kernelspec": {
      "display_name": "Python 3",
      "language": "python",
      "name": "python3"
    },
    "language_info": {
      "codemirror_mode": {
        "name": "ipython",
        "version": 2
      },
      "file_extension": ".py",
      "mimetype": "text/x-python",
      "name": "python",
      "nbconvert_exporter": "python",
      "pygments_lexer": "ipython2",
      "version": "2.7.6"
    },
    "colab": {
      "provenance": [],
      "include_colab_link": true
    }
  },
  "cells": [
    {
      "cell_type": "markdown",
      "metadata": {
        "id": "view-in-github",
        "colab_type": "text"
      },
      "source": [
        "<a href=\"https://colab.research.google.com/github/saarangmahun/comp215/blob/main/labs/lab03-classes.ipynb\" target=\"_parent\"><img src=\"https://colab.research.google.com/assets/colab-badge.svg\" alt=\"Open In Colab\"/></a>"
      ]
    },
    {
      "cell_type": "markdown",
      "source": [
        "COMP 215 - LAB 3\n",
        "----------------\n",
        "#### Name(s):\n",
        "#### Date:\n",
        "\n",
        "By the end of this lab you should be able to:\n",
        "  * use a `class` to organize related data and functions\n",
        "  * identify a `record` as a related collection of data, with fields for each data value\n",
        "\n",
        "During this lab, you will be introduced to the following:\n",
        "  * the `@dataclass` decorator to simplify class definition for classes that primarily encapsulate a data structure.\n",
        "  * the `@classmethod` decorator to create 'object factories'.\n",
        "  * plotting frequency distributions in `matplotlib`\n",
        "\n"
      ],
      "metadata": {
        "id": "nbRPZPKZU5Pk"
      }
    },
    {
      "cell_type": "markdown",
      "source": [
        "## Near Earth Objects (with classes)\n",
        "\n",
        "We'll continue working with Near Earth Object data using NASA's API: https://api.nasa.gov/.  In this lab we will define an Asteroid class to help us structure the data for easier data analysis.  Here's a brief review from Lab 2 on how to use the API.  "
      ],
      "metadata": {
        "id": "j0F0hjKzgQ1W"
      }
    },
    {
      "cell_type": "code",
      "execution_count": null,
      "outputs": [],
      "source": [
        "# import necessary modules\n",
        "import datetime, json, requests\n",
        "from dataclasses import dataclass\n",
        "from pprint import pprint\n",
        "import matplotlib.pyplot as plt\n",
        "%matplotlib inline"
      ],
      "metadata": {
        "pycharm": {
          "name": "#%%\n"
        },
        "ExecuteTime": {
          "end_time": "2024-01-04T04:10:54.380220Z",
          "start_time": "2024-01-04T04:10:54.335677Z"
        },
        "id": "TLWTJDuVfSzO"
      }
    },
    {
      "cell_type": "markdown",
      "source": [
        "### Review: make an API query\n",
        "\n",
        "Here's a query that gets the record for a single NEO that recently passed by.  Read these functions carefully to be sure you know what they are returning.  Note the nested for loop structure in the return statement of the `get_neos` function - be sure to understand what it is doing.  You might want to add some more `pprint` statements to be sure you understand the data structures."
      ],
      "metadata": {
        "collapsed": false,
        "pycharm": {
          "name": "#%% md\n"
        },
        "id": "ug6L49x3fSzP"
      }
    },
    {
      "cell_type": "code",
      "execution_count": null,
      "outputs": [],
      "source": [
        "API_KEY = 'BYdjHLVbYi5O8DtRCWCjWUilC8Pwph1lNH7qoiGx'  # substitute your API key here\n",
        "\n",
        "def get_neos(start_date):\n",
        "    \"\"\" Return a list of NEO for the week starting at start_date \"\"\"\n",
        "    url = f'https://api.nasa.gov/neo/rest/v1/feed?start_date={start_date}&api_key={API_KEY}'\n",
        "    # Fetch last week's NEO feed\n",
        "    response = requests.request(\"GET\", url, headers={}, data={})\n",
        "    data = json.loads(response.text)\n",
        "    print(f'{data[\"element_count\"]} Near Earth Objects found for week of {start_date}')\n",
        "    return [neo for dated_records in data['near_earth_objects'].values() for neo in dated_records ]\n",
        "\n",
        "def get_neo(id):\n",
        "    \"\"\" Return a NEO record for the given id \"\"\"\n",
        "    url = f'https://api.nasa.gov/neo/rest/v1/neo/{id}?api_key={API_KEY}'\n",
        "    response = requests.request(\"GET\", url, headers={}, data={})\n",
        "    return json.loads(response.text)\n",
        "\n",
        "week_start = '2023-01-15'\n",
        "neos = get_neos(week_start)\n",
        "assert len(neos) > 0, f'Oh oh!  No NEOs found for {week_start}'\n",
        "neo = get_neo(neos[-1]['id'])  # get the very latest NEO\n",
        "pprint(neo)"
      ],
      "metadata": {
        "collapsed": true,
        "pycharm": {
          "name": "#%%\n"
        },
        "ExecuteTime": {
          "end_time": "2024-01-04T04:11:12.889668Z",
          "start_time": "2024-01-04T04:10:54.383166Z"
        },
        "id": "7Ex-7gB4fSzP"
      }
    },
    {
      "cell_type": "markdown",
      "source": [
        "## Exercise 1:  Define an Asteroid class\n",
        "\n",
        "Define a simple Asteroid class with some basic state variables for a single NEO.  Your Asteroid class should define at least 4 \"state variables:”\n",
        "\n",
        "    id\n",
        "    name\n",
        "    estimated_diameter (m)\n",
        "    is_potentially_hazardous (bool)\n",
        "\n",
        "Operations must include:\n",
        "* `__init__(self, ...)` method to initialize a new Asteroid object with specific data values\n",
        "* `__str__(self)`, and `__repr__(self)` methods that return nicely formatted string representations of the object.\n",
        "\n",
        "Write a little code to test your new class."
      ],
      "metadata": {
        "collapsed": false,
        "pycharm": {
          "name": "#%% md\n"
        },
        "id": "DcpH1nvJfSzP"
      }
    },
    {
      "cell_type": "code",
      "execution_count": 9,
      "outputs": [
        {
          "output_type": "stream",
          "name": "stdout",
          "text": [
            "106 Near Earth Objects found for week of 2025-01-19\n",
            "Asteroid (2006 SE6) (ID: 3342322):\n",
            "  Estimated Diameter: 151.370058502 meters\n",
            "  Potentially Hazardous: No\n",
            "Asteroid (2011 CD66) (ID: 3557543):\n",
            "  Estimated Diameter: 24.7765012606 meters\n",
            "  Potentially Hazardous: No\n",
            "Asteroid (2012 BB77) (ID: 3596676):\n",
            "  Estimated Diameter: 959.488952756 meters\n",
            "  Potentially Hazardous: No\n",
            "Asteroid (2016 AK193) (ID: 3740499):\n",
            "  Estimated Diameter: 228.0551997482 meters\n",
            "  Potentially Hazardous: No\n",
            "Asteroid (2016 UB107) (ID: 3763102):\n",
            "  Estimated Diameter: 54.2050786336 meters\n",
            "  Potentially Hazardous: No\n"
          ]
        }
      ],
      "source": [
        "import requests\n",
        "import json\n",
        "from pprint import pprint\n",
        "\n",
        "API_KEY = 'BYdjHLVbYi5O8DtRCWCjWUilC8Pwph1lNH7qoiGx'  # substitute your API key here\n",
        "\n",
        "class Asteroid:\n",
        "    def __init__(self, id, name, estimated_diameter, is_potentially_hazardous):\n",
        "        \"\"\"\n",
        "        Initialize an Asteroid object.\n",
        "\n",
        "        Parameters:\n",
        "        - id (str)\n",
        "        - name (str)\n",
        "        - estimated_diameter (float)\n",
        "        - is_potentially_hazardous (bool)\n",
        "        \"\"\"\n",
        "        self.id = id\n",
        "        self.name = name\n",
        "        self.estimated_diameter = estimated_diameter\n",
        "        self.is_potentially_hazardous = is_potentially_hazardous\n",
        "\n",
        "    def __str__(self):\n",
        "        \"\"\"\n",
        "        user-friendly string\n",
        "        \"\"\"\n",
        "        hazard_status = \"Yes\" if self.is_potentially_hazardous else \"No\"\n",
        "        return (f\"Asteroid {self.name} (ID: {self.id}):\\n\"\n",
        "                f\"  Estimated Diameter: {self.estimated_diameter} meters\\n\"\n",
        "                f\"  Potentially Hazardous: {hazard_status}\")\n",
        "\n",
        "    def __repr__(self):\n",
        "        \"\"\"\n",
        "        developer-friendly string\n",
        "        \"\"\"\n",
        "        return (f\"Asteroid(id='{self.id}', name='{self.name}', \"\n",
        "                f\"estimated_diameter={self.estimated_diameter}, \"\n",
        "                f\"is_potentially_hazardous={self.is_potentially_hazardous})\")\n",
        "\n",
        "def get_neos(start_date):\n",
        "    \"\"\" Return a list of NEOs for the week starting at start_date \"\"\"\n",
        "    url = f'https://api.nasa.gov/neo/rest/v1/feed?start_date={start_date}&api_key={API_KEY}'\n",
        "    # Fetch last week's NEO feed\n",
        "    response = requests.request(\"GET\", url, headers={}, data={})\n",
        "    data = json.loads(response.text)\n",
        "    print(f'{data[\"element_count\"]} Near Earth Objects found for week of {start_date}')\n",
        "    return [neo for dated_records in data['near_earth_objects'].values() for neo in dated_records]\n",
        "\n",
        "def create_asteroids(neo_data):\n",
        "    \"\"\" Convert NEO data into a list of Asteroid objects \"\"\"\n",
        "    asteroids = []\n",
        "    for neo in neo_data:\n",
        "        asteroid_id = neo['id']\n",
        "        name = neo['name']\n",
        "        estimated_diameter = neo['estimated_diameter']['meters']['estimated_diameter_max']\n",
        "        is_hazardous = neo['is_potentially_hazardous_asteroid']\n",
        "        asteroids.append(Asteroid(asteroid_id, name, estimated_diameter, is_hazardous))\n",
        "    return asteroids\n",
        "\n",
        "def main():\n",
        "    week_start = '2025-01-19'\n",
        "    neos = get_neos(week_start)\n",
        "    assert len(neos) > 0, f'Oh oh! No NEOs found for {week_start}'\n",
        "\n",
        "    # Create Asteroid objects\n",
        "    asteroids = create_asteroids(neos)\n",
        "\n",
        "    # Print some asteroid data for verification\n",
        "    for asteroid in asteroids[:5]:  # Print details of the first 5 asteroids\n",
        "        print(asteroid)\n",
        "\n",
        "if __name__ == \"__main__\":\n",
        "    main()\n"
      ],
      "metadata": {
        "pycharm": {
          "name": "#%%\n"
        },
        "ExecuteTime": {
          "end_time": "2024-01-04T04:11:12.891665Z",
          "start_time": "2024-01-04T04:11:12.889274Z"
        },
        "id": "FklvnAw4fSzQ",
        "outputId": "29ac5de1-2e19-4d3d-94ae-740d84c60912",
        "colab": {
          "base_uri": "https://localhost:8080/"
        }
      }
    },
    {
      "cell_type": "markdown",
      "source": [
        "## Exercise 2: Make a histogram\n",
        "\n",
        "Create a list of all the Asteroid objects from this week's NEO feed and use the list to create a histogram to visualize the distribution of Asteroid diameters.  To create the historgram use the `hist()` method in the `matplotlib.pyplot` module."
      ],
      "metadata": {
        "id": "1BIePZEEVbhK"
      }
    },
    {
      "cell_type": "code",
      "source": [
        "import requests\n",
        "import json\n",
        "from pprint import pprint\n",
        "import matplotlib.pyplot as plt\n",
        "\n",
        "API_KEY = 'BYdjHLVbYi5O8DtRCWCjWUilC8Pwph1lNH7qoiGx'  # substitute your API key here\n",
        "\n",
        "class Asteroid:\n",
        "    def __init__(self, id, name, estimated_diameter, is_potentially_hazardous):\n",
        "        \"\"\"\n",
        "        Initialize an Asteroid object.\n",
        "\n",
        "        Parameters:\n",
        "        - id (str)\n",
        "        - name (str)\n",
        "        - estimated_diameter (float)\n",
        "        - is_potentially_hazardous (bool)\n",
        "        \"\"\"\n",
        "        self.id = id\n",
        "        self.name = name\n",
        "        self.estimated_diameter = estimated_diameter\n",
        "        self.is_potentially_hazardous = is_potentially_hazardous\n",
        "\n",
        "    def __str__(self):\n",
        "        \"\"\"\n",
        "        user-friendly string\n",
        "        \"\"\"\n",
        "        hazard_status = \"Yes\" if self.is_potentially_hazardous else \"No\"\n",
        "        return (f\"Asteroid {self.name} (ID: {self.id}):\\n\"\n",
        "                f\"  Estimated Diameter: {self.estimated_diameter} meters\\n\"\n",
        "                f\"  Potentially Hazardous: {hazard_status}\")\n",
        "\n",
        "    def __repr__(self):\n",
        "        \"\"\"\n",
        "        developer-friendly string\n",
        "        \"\"\"\n",
        "        return (f\"Asteroid(id='{self.id}', name='{self.name}', \"\n",
        "                f\"estimated_diameter={self.estimated_diameter}, \"\n",
        "                f\"is_potentially_hazardous={self.is_potentially_hazardous})\")\n",
        "\n",
        "def get_neos(start_date):\n",
        "    \"\"\" list of NEOs for the week starting at start_date \"\"\"\n",
        "    url = f'https://api.nasa.gov/neo/rest/v1/feed?start_date={start_date}&api_key={API_KEY}'\n",
        "    # Fetch last week's NEO feed\n",
        "    response = requests.request(\"GET\", url, headers={}, data={})\n",
        "    data = json.loads(response.text)\n",
        "    print(f'{data[\"element_count\"]} Near Earth Objects found for week of {start_date}')\n",
        "    return [neo for dated_records in data['near_earth_objects'].values() for neo in dated_records]\n",
        "\n",
        "def create_asteroids(neo_data):\n",
        "    \"\"\" Convert NEO data into a list of Asteroid objects \"\"\"\n",
        "    asteroids = []\n",
        "    for neo in neo_data:\n",
        "        asteroid_id = neo['id']\n",
        "        name = neo['name']\n",
        "        estimated_diameter = neo['estimated_diameter']['meters']['estimated_diameter_max']\n",
        "        is_hazardous = neo['is_potentially_hazardous_asteroid']\n",
        "        asteroids.append(Asteroid(asteroid_id, name, estimated_diameter, is_hazardous))\n",
        "    return asteroids\n",
        "\n",
        "def main():\n",
        "    week_start = '2025-01-19'\n",
        "    neos = get_neos(week_start)\n",
        "    assert len(neos) > 0, f'Oh oh! No NEOs found for {week_start}'\n",
        "\n",
        "    # Create Asteroid objects\n",
        "    asteroids = create_asteroids(neos)\n",
        "\n",
        "    # Print some asteroid data for verification\n",
        "    for asteroid in asteroids[:5]:  # Print details of the first 5 asteroids\n",
        "        print(asteroid)\n",
        "\n",
        "    # Extract estimated diameters for the histogram\n",
        "    diameters = [a.estimated_diameter for a in asteroids if a.estimated_diameter is not None]\n",
        "\n",
        "    # Create a histogram\n",
        "    plt.hist(diameters, bins=10, edgecolor='black')\n",
        "    plt.title(\"Distribution of Asteroid Diameters\")\n",
        "    plt.xlabel(\"Diameter (meters)\")\n",
        "    plt.ylabel(\"Frequency\")\n",
        "    plt.show()\n",
        "\n",
        "if __name__ == \"__main__\":\n",
        "    main()\n",
        "\n"
      ],
      "metadata": {
        "id": "orJxuk8nVd_B",
        "outputId": "ac01cbe1-9f5a-40bf-b6af-ce4cef624d51",
        "colab": {
          "base_uri": "https://localhost:8080/",
          "height": 762
        }
      },
      "execution_count": 8,
      "outputs": [
        {
          "output_type": "stream",
          "name": "stdout",
          "text": [
            "106 Near Earth Objects found for week of 2025-01-19\n",
            "Asteroid (2006 SE6) (ID: 3342322):\n",
            "  Estimated Diameter: 151.370058502 meters\n",
            "  Potentially Hazardous: No\n",
            "Asteroid (2011 CD66) (ID: 3557543):\n",
            "  Estimated Diameter: 24.7765012606 meters\n",
            "  Potentially Hazardous: No\n",
            "Asteroid (2012 BB77) (ID: 3596676):\n",
            "  Estimated Diameter: 959.488952756 meters\n",
            "  Potentially Hazardous: No\n",
            "Asteroid (2016 AK193) (ID: 3740499):\n",
            "  Estimated Diameter: 228.0551997482 meters\n",
            "  Potentially Hazardous: No\n",
            "Asteroid (2016 UB107) (ID: 3763102):\n",
            "  Estimated Diameter: 54.2050786336 meters\n",
            "  Potentially Hazardous: No\n"
          ]
        },
        {
          "output_type": "display_data",
          "data": {
            "text/plain": [
              "<Figure size 640x480 with 1 Axes>"
            ],
            "image/png": "[encoded data removed]"
          },
          "metadata": {}
        }
      ]
    },
    {
      "cell_type": "markdown",
      "source": [
        "## Exercise 3: Use `@dataclass` and `@classmethod` to do the same thing\n",
        "\n",
        "Now that you know how to define a simple class, we are going to use a use decorators to simplify (ie. shorten) our class definitions.  You will redefine the Asteroid class in this exercise.  Note that having two different definitions of a class in a single piece of code is very bad practice. I am asking you to do it here just so that you can see the differt ways to define classes.\n",
        "\n",
        " 1. Use the `@dataclass` decorator from the `dataclasses` module to define the Asteroid class.  The `@dataclass` decorator will automatically generate some of the commonly used methods, like `__init()__`, `__repr()__`, and `__eq()__`.  The definition should start like this:\n",
        "    ```\n",
        "    @dataclass\n",
        "    class Asteroid:\n",
        "      ...\n",
        "    ```\n",
        "Write a little code to test your new class.\n",
        "  \n",
        "\n",
        " 2. Use the `@classmethod` decorator to construct a `from_NEO()` 'factory method' inside your Asteroid class that creates Asteroid objects from the NEO API.  The method should take the id for a single NEO, fetche the NEO record from API, constructs a single Asteroid object, and return the Asteroid object representing that NEO.  This kind of method is called a “Factory” because it constructs an object from raw materials.  The object factory method should start like this:\n",
        "    ```\n",
        "    @classmethod\n",
        "    from_NEO(cls, neo_id):\n",
        "        ...\n",
        "    ```\n",
        "Write a little code to test your new method.\n",
        "\n",
        " 3. Use your new Asteroid class to create a list of Asteroid objects.  Use this list to create the same historgram as in Exercise 2.  \n",
        "\n",
        "\n"
      ],
      "metadata": {
        "id": "oae6EWIhQW76"
      }
    },
    {
      "cell_type": "code",
      "source": [
        "import requests\n",
        "import json\n",
        "from pprint import pprint\n",
        "from dataclasses import dataclass\n",
        "\n",
        "API_KEY = 'BYdjHLVbYi5O8DtRCWCjWUilC8Pwph1lNH7qoiGx'  # substitute your API key here\n",
        "\n",
        "@dataclass\n",
        "class Asteroid:\n",
        "    id: str\n",
        "    name: str\n",
        "    estimated_diameter: float\n",
        "    is_potentially_hazardous: bool\n",
        "\n",
        "    def __str__(self):\n",
        "        \"\"\"\n",
        "        user-friendly string\n",
        "        \"\"\"\n",
        "        hazard_status = \"Yes\" if self.is_potentially_hazardous else \"No\"\n",
        "        return (f\"Asteroid {self.name} (ID: {self.id}):\\n\"\n",
        "                f\"  Estimated Diameter: {self.estimated_diameter} meters\\n\"\n",
        "                f\"  Potentially Hazardous: {hazard_status}\")\n",
        "\n",
        "    @classmethod\n",
        "    def from_NEO(cls, neo_id):\n",
        "        \"\"\"\n",
        "        Factory method to create an Asteroid object from NEO API data.\n",
        "        \"\"\"\n",
        "        url = f'https://api.nasa.gov/neo/rest/v1/neo/{neo_id}?api_key={API_KEY}'\n",
        "        response = requests.get(url)\n",
        "        data = response.json()\n",
        "        return cls(\n",
        "            id=data['id'],\n",
        "            name=data['name'],\n",
        "            estimated_diameter=data['estimated_diameter']['meters']['estimated_diameter_max'],\n",
        "            is_potentially_hazardous=data['is_potentially_hazardous_asteroid']\n",
        "        )\n",
        "\n",
        "def get_neos(start_date):\n",
        "    \"\"\" Return a list of NEOs for the week starting at start_date \"\"\"\n",
        "    url = f'https://api.nasa.gov/neo/rest/v1/feed?start_date={start_date}&api_key={API_KEY}'\n",
        "    response = requests.request(\"GET\", url, headers={}, data={})\n",
        "    data = json.loads(response.text)\n",
        "    print(f'{data[\"element_count\"]} Near Earth Objects found for week of {start_date}')\n",
        "    return [neo for dated_records in data['near_earth_objects'].values() for neo in dated_records]\n",
        "\n",
        "def create_asteroids(neo_data):\n",
        "    \"\"\" Convert NEO data into a list of Asteroid objects \"\"\"\n",
        "    asteroids = []\n",
        "    for neo in neo_data:\n",
        "        asteroids.append(Asteroid(\n",
        "            id=neo['id'],\n",
        "            name=neo['name'],\n",
        "            estimated_diameter=neo['estimated_diameter']['meters']['estimated_diameter_max'],\n",
        "            is_potentially_hazardous=neo['is_potentially_hazardous_asteroid']\n",
        "        ))\n",
        "    return asteroids\n",
        "\n",
        "def main():\n",
        "    week_start = '2025-01-19'\n",
        "    neos = get_neos(week_start)\n",
        "    assert len(neos) > 0, f'Oh oh! No NEOs found for {week_start}'\n",
        "\n",
        "    # Create Asteroid objects\n",
        "    asteroids = create_asteroids(neos)\n",
        "\n",
        "    # Print some asteroid data for verification\n",
        "    for asteroid in asteroids[:5]:  # Print details of the first 5 asteroids\n",
        "        print(asteroid)\n",
        "\n",
        "    # Example of using the from_NEO factory method\n",
        "    example_neo_id = neos[0]['id']  # Using the first NEO's ID\n",
        "    example_asteroid = Asteroid.from_NEO(example_neo_id)\n",
        "    print(\"\\nExample Asteroid created using from_NEO:\")\n",
        "    print(example_asteroid)\n",
        "\n",
        "if __name__ == \"__main__\":\n",
        "    main()\n"
      ],
      "metadata": {
        "id": "ygUi21mXX25Y",
        "outputId": "7b07a098-a8a1-407d-c962-a73ca8e2a79c",
        "colab": {
          "base_uri": "https://localhost:8080/"
        }
      },
      "execution_count": 10,
      "outputs": [
        {
          "output_type": "stream",
          "name": "stdout",
          "text": [
            "106 Near Earth Objects found for week of 2025-01-19\n",
            "Asteroid (2006 SE6) (ID: 3342322):\n",
            "  Estimated Diameter: 151.370058502 meters\n",
            "  Potentially Hazardous: No\n",
            "Asteroid (2011 CD66) (ID: 3557543):\n",
            "  Estimated Diameter: 24.7765012606 meters\n",
            "  Potentially Hazardous: No\n",
            "Asteroid (2012 BB77) (ID: 3596676):\n",
            "  Estimated Diameter: 959.488952756 meters\n",
            "  Potentially Hazardous: No\n",
            "Asteroid (2016 AK193) (ID: 3740499):\n",
            "  Estimated Diameter: 228.0551997482 meters\n",
            "  Potentially Hazardous: No\n",
            "Asteroid (2016 UB107) (ID: 3763102):\n",
            "  Estimated Diameter: 54.2050786336 meters\n",
            "  Potentially Hazardous: No\n",
            "\n",
            "Example Asteroid created using from_NEO:\n",
            "Asteroid (2006 SE6) (ID: 3342322):\n",
            "  Estimated Diameter: 151.370058502 meters\n",
            "  Potentially Hazardous: No\n"
          ]
        }
      ]
    },
    {
      "cell_type": "markdown",
      "source": [
        "## Challenge Exercise:\n",
        "\n",
        "One of your esteemed astromoner collegues has a theory that there is a correlation between the diameter and the orbital period of an asteroid.  Add the `orbital_period` data from the NEO API to your Asteroid class definition and use it to plot the orbital period (in years) versus the estimated diameter (in m) of all the asteroids from this week's NEO record.  Do you see a correlation?"
      ],
      "metadata": {
        "id": "4TznF_wiZJqu"
      }
    },
    {
      "cell_type": "code",
      "source": [
        "# Ex. Challenge your code here"
      ],
      "metadata": {
        "id": "bXJbBGDHZWjP"
      },
      "execution_count": null,
      "outputs": []
    }
  ]
}